{
 "cells": [
  {
   "attachments": {},
   "cell_type": "markdown",
   "metadata": {},
   "source": [
    "# Benchmark of backend methods\n",
    "\n",
    "This benchmark file will assess the performance of different possibilities to implement the backend."
   ]
  },
  {
   "cell_type": "code",
   "execution_count": 2,
   "metadata": {},
   "outputs": [],
   "source": [
    "import json\n",
    "from coordinates import Coordinates\n",
    "from service_provider import ServiceProvider"
   ]
  },
  {
   "attachments": {},
   "cell_type": "markdown",
   "metadata": {},
   "source": [
    "## Distance calculation\n",
    "\n",
    "Below cell demonstrates the usage of the `Coordinates`-class:"
   ]
  },
  {
   "cell_type": "code",
   "execution_count": 4,
   "metadata": {},
   "outputs": [
    {
     "name": "stdout",
     "output_type": "stream",
     "text": [
      "2901\n"
     ]
    }
   ],
   "source": [
    "coords1 = Coordinates(13.719, 51.06)\n",
    "coords2 = Coordinates(13.7345, 51.0384)\n",
    "print(coords1.distance_to(coords2))"
   ]
  },
  {
   "attachments": {},
   "cell_type": "markdown",
   "metadata": {},
   "source": [
    "## Example stats of a worker\n",
    "\n",
    "The below cell provides an example worker:"
   ]
  },
  {
   "cell_type": "code",
   "execution_count": 5,
   "metadata": {},
   "outputs": [],
   "source": [
    "sp = ServiceProvider(id=1, lat=50.89849, lon=7.01926, max_driving_distance=97000, picture_score=2., description_score=2.)"
   ]
  },
  {
   "attachments": {},
   "cell_type": "markdown",
   "metadata": {},
   "source": [
    "This worker can then be used to get some feel for reachability:"
   ]
  },
  {
   "cell_type": "code",
   "execution_count": 10,
   "metadata": {},
   "outputs": [
    {
     "name": "stdout",
     "output_type": "stream",
     "text": [
      "The example worker can reach 886 of 8168 postcodes.\n"
     ]
    }
   ],
   "source": [
    "with open('../dataset/postcode.json', 'r') as postcodefile:\n",
    "    postcodelist = json.load(postcodefile)\n",
    "    reachable_postal_codes = 0\n",
    "    for postcode in postcodelist:\n",
    "        group_bonus = 0\n",
    "        if postcode['postcode_extension_distance_group'] == 'group_b':\n",
    "            group_bonus = 2\n",
    "        elif postcode['postcode_extension_distance_group'] == 'group_c':\n",
    "            group_bonus = 7\n",
    "        postcode_coordinates = Coordinates(postcode['lat'], postcode['lon'])\n",
    "        if sp.can_reach(postcode_coordinates, group_bonus):\n",
    "            reachable_postal_codes += 1\n",
    "            #print(sp.rank(postcode_coordinates))\n",
    "    print(f'The example worker can reach {reachable_postal_codes} of {len(postcodelist)} postcodes.')"
   ]
  }
 ],
 "metadata": {
  "kernelspec": {
   "display_name": "venv",
   "language": "python",
   "name": "python3"
  },
  "language_info": {
   "codemirror_mode": {
    "name": "ipython",
    "version": 3
   },
   "file_extension": ".py",
   "mimetype": "text/x-python",
   "name": "python",
   "nbconvert_exporter": "python",
   "pygments_lexer": "ipython3",
   "version": "3.11.5"
  },
  "orig_nbformat": 4,
  "vscode": {
   "interpreter": {
    "hash": "161ab89aac84b9221867f28e4121d1974ba2c6de4cd5d52a64cf08e684277b36"
   }
  }
 },
 "nbformat": 4,
 "nbformat_minor": 2
}
