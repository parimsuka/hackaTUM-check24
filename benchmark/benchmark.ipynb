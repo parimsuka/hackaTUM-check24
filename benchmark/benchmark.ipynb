{
 "cells": [
  {
   "attachments": {},
   "cell_type": "markdown",
   "metadata": {},
   "source": [
    "# Benchmark of backend methods\n",
    "\n",
    "This benchmark file will assess the performance of different possibilities to implement the backend."
   ]
  },
  {
   "cell_type": "code",
   "execution_count": 1,
   "metadata": {},
   "outputs": [],
   "source": [
    "import json\n",
    "from coordinates import Coordinates\n",
    "from service_provider import ServiceProvider"
   ]
  },
  {
   "attachments": {},
   "cell_type": "markdown",
   "metadata": {},
   "source": [
    "## Distance calculation\n",
    "\n",
    "Below cell demonstrates the usage of the `Coordinates`-class:"
   ]
  },
  {
   "cell_type": "code",
   "execution_count": 2,
   "metadata": {},
   "outputs": [
    {
     "name": "stdout",
     "output_type": "stream",
     "text": [
      "2900.7583914770216\n"
     ]
    }
   ],
   "source": [
    "coords1 = Coordinates(13.719, 51.06)\n",
    "coords2 = Coordinates(13.7345, 51.0384)\n",
    "print(coords1.distance_to(coords2))"
   ]
  },
  {
   "attachments": {},
   "cell_type": "markdown",
   "metadata": {},
   "source": [
    "## Example stats of a worker\n",
    "\n",
    "The below cell provides an example worker:"
   ]
  },
  {
   "cell_type": "code",
   "execution_count": 3,
   "metadata": {},
   "outputs": [
    {
     "ename": "TypeError",
     "evalue": "ServiceProvider.__init__() got an unexpected keyword argument 'lat'",
     "output_type": "error",
     "traceback": [
      "\u001b[0;31m---------------------------------------------------------------------------\u001b[0m",
      "\u001b[0;31mTypeError\u001b[0m                                 Traceback (most recent call last)",
      "\u001b[1;32m/Users/andreicristea/andrei/Programming/hackaTUM-check24/benchmark/benchmark.ipynb Cell 6\u001b[0m line \u001b[0;36m1\n\u001b[0;32m----> <a href='vscode-notebook-cell:/Users/andreicristea/andrei/Programming/hackaTUM-check24/benchmark/benchmark.ipynb#W5sZmlsZQ%3D%3D?line=0'>1</a>\u001b[0m sp \u001b[39m=\u001b[39m ServiceProvider(\u001b[39mid\u001b[39;49m\u001b[39m=\u001b[39;49m\u001b[39m1\u001b[39;49m, lat\u001b[39m=\u001b[39;49m\u001b[39m50.89849\u001b[39;49m, lon\u001b[39m=\u001b[39;49m\u001b[39m7.01926\u001b[39;49m, max_driving_distance\u001b[39m=\u001b[39;49m\u001b[39m97000\u001b[39;49m, picture_score\u001b[39m=\u001b[39;49m\u001b[39m2.\u001b[39;49m, description_score\u001b[39m=\u001b[39;49m\u001b[39m2.\u001b[39;49m)\n",
      "\u001b[0;31mTypeError\u001b[0m: ServiceProvider.__init__() got an unexpected keyword argument 'lat'"
     ]
    }
   ],
   "source": [
    "sp = ServiceProvider(id=1, lat=50.89849, lon=7.01926, max_driving_distance=97000, picture_score=2., description_score=2.)"
   ]
  },
  {
   "attachments": {},
   "cell_type": "markdown",
   "metadata": {},
   "source": [
    "## Parsing postcodes and service providers\n",
    "\n",
    "Testing the postcode iterator:"
   ]
  },
  {
   "cell_type": "code",
   "execution_count": 5,
   "metadata": {},
   "outputs": [
    {
     "name": "stdout",
     "output_type": "stream",
     "text": [
      "[1067, 1069, 1097, 1099, 1108, 1109, 1127, 1129, 1139, 1156]\n"
     ]
    }
   ],
   "source": [
    "from postcode import AllPostCodes\n",
    "\n",
    "print([pc.postcode for pc in AllPostCodes('./dataset/postcode.json')][:10])"
   ]
  },
  {
   "attachments": {},
   "cell_type": "markdown",
   "metadata": {},
   "source": [
    "Testing the service provider iterator:"
   ]
  },
  {
   "cell_type": "code",
   "execution_count": 6,
   "metadata": {},
   "outputs": [
    {
     "name": "stdout",
     "output_type": "stream",
     "text": [
      "[67267, 67268, 67269, 67270, 67271, 67272, 67273, 67274, 67275, 67276]\n"
     ]
    }
   ],
   "source": [
    "from service_provider import AllServiceProviders\n",
    "\n",
    "print([sp.id for sp in AllServiceProviders('./dataset/service_provider_profile.json', './dataset/quality_factor_score.json')][-10:])"
   ]
  },
  {
   "attachments": {},
   "cell_type": "markdown",
   "metadata": {},
   "source": [
    "## Graph-based approach\n",
    "\n",
    "At first, we will generate the graph."
   ]
  },
  {
   "cell_type": "code",
   "execution_count": 7,
   "metadata": {},
   "outputs": [
    {
     "name": "stderr",
     "output_type": "stream",
     "text": [
      "100%|██████████| 8168/8168 [05:17<00:00, 25.69it/s]\n"
     ]
    }
   ],
   "source": [
    "from approaches import GraphBasedApproach\n",
    "from postcode import AllPostCodes\n",
    "from service_provider import AllServiceProviders\n",
    "import os\n",
    "\n",
    "apc = AllPostCodes('../dataset/postcode.json')\n",
    "asp = AllServiceProviders('../dataset/service_provider_profile.json', '../dataset/quality_factor_score.json')\n",
    "\n",
    "gba = GraphBasedApproach(asp.service_providers, apc.postcodes)"
   ]
  },
  {
   "cell_type": "markdown",
   "metadata": {},
   "source": [
    "Here, we can have some statistics:"
   ]
  },
  {
   "cell_type": "code",
   "execution_count": 8,
   "metadata": {},
   "outputs": [
    {
     "name": "stdout",
     "output_type": "stream",
     "text": [
      "There are 67276 service providers in 8168 post codes.\n"
     ]
    }
   ],
   "source": [
    "print(f'There are {len(asp.service_providers)} service providers in {len(apc.postcodes)} post codes.')"
   ]
  },
  {
   "attachments": {},
   "cell_type": "markdown",
   "metadata": {},
   "source": [
    "Now, we can export the graph:"
   ]
  },
  {
   "cell_type": "code",
   "execution_count": 9,
   "metadata": {},
   "outputs": [],
   "source": [
    "savefile = 'complete-germany.gml'\n",
    "if not os.path.isfile(savefile):\n",
    "    gba.graph.save(savefile)"
   ]
  },
  {
   "attachments": {},
   "cell_type": "markdown",
   "metadata": {},
   "source": [
    "And find out the highest-ranked craftsmen:"
   ]
  },
  {
   "cell_type": "code",
   "execution_count": 10,
   "metadata": {},
   "outputs": [
    {
     "name": "stderr",
     "output_type": "stream",
     "text": [
      "100%|██████████| 8168/8168 [01:22<00:00, 99.23it/s] \n"
     ]
    }
   ],
   "source": [
    "import bisect\n",
    "from tqdm import tqdm\n",
    "import time\n",
    "\n",
    "\n",
    "craftsman_dict = dict()\n",
    "\n",
    "i = 0\n",
    "for postcode in tqdm([pc.postcode for pc in apc.postcodes]):\n",
    "    craftsmen = []\n",
    "    vertex = gba.id_to_vertex(postcode, True)\n",
    "    for edge in gba.graph.es[gba.graph.incident(vertex)]:\n",
    "        edge_connects = [edge.source, edge.target]\n",
    "        edge_connects.remove(vertex)\n",
    "        craftsman = gba.vertex_to_id(edge_connects.pop(), False)\n",
    "        crafts_weight = (craftsman, edge['weight'])\n",
    "        bisect.insort(craftsmen, crafts_weight, key=lambda x: -x[1])\n",
    "    #craftsmen = [craftsman for craftsman, _ in craftsmen]\n",
    "    craftsman_dict[postcode] = craftsmen\n",
    "\n",
    "time.sleep(1)"
   ]
  },
  {
   "attachments": {},
   "cell_type": "markdown",
   "metadata": {},
   "source": [
    "### Benchmarking\n",
    "\n",
    "We can now time the access to the graph by randomly selecting a large amount of service provider lists:"
   ]
  },
  {
   "cell_type": "code",
   "execution_count": 19,
   "metadata": {},
   "outputs": [
    {
     "name": "stderr",
     "output_type": "stream",
     "text": [
      "100%|██████████| 1000000/1000000 [00:03<00:00, 252859.90it/s]"
     ]
    },
    {
     "name": "stdout",
     "output_type": "stream",
     "text": [
      "Total time for 1000000 tries: 2.5200109481811523\n",
      "Time per access: 2.5200109481811523 microseconds\n"
     ]
    },
    {
     "name": "stderr",
     "output_type": "stream",
     "text": [
      "\n"
     ]
    }
   ],
   "source": [
    "import time\n",
    "import random\n",
    "\n",
    "elapsed = 0\n",
    "num_tries = 1_000_000\n",
    "for i in tqdm(range(num_tries)):\n",
    "    access_postcode = random.randint(0, len(apc.postcodes)-1)\n",
    "    start = time.time()\n",
    "    craftsman_dict[apc.postcodes[access_postcode].postcode][:20]\n",
    "    end = time.time()\n",
    "    elapsed += end-start\n",
    "print(f'Total time for {num_tries} tries: {elapsed}\\nTime per access: {(elapsed/num_tries)*1_000_000} microseconds')"
   ]
  },
  {
   "attachments": {},
   "cell_type": "markdown",
   "metadata": {},
   "source": [
    "## Results\n",
    "\n",
    "As an example, we will now print the first 20 providers of the first postcode:"
   ]
  },
  {
   "cell_type": "code",
   "execution_count": 14,
   "metadata": {},
   "outputs": [
    {
     "name": "stdout",
     "output_type": "stream",
     "text": [
      "[(30, 2.695622658255577), (15800, 2.6926411584339083), (3708, 2.6902867998542863), (44918, 2.679246026322894), (841, 2.6499046305485856), (23236, 2.6338415972869136), (49357, 2.622901597189316), (3726, 2.5735129606114375), (3009, 2.572696616754063), (41976, 2.5720523222769964), (9879, 2.3593262285224084), (15080, 2.3576070230208535), (808, 2.3566244213474947), (3266, 2.355475344838018), (56917, 2.354260993865051), (1442, 2.3529238087885087), (11199, 2.3516139272660244), (16825, 2.3512001563142526), (5890, 2.3499036086609992), (53559, 2.3472640670281995)]\n"
     ]
    }
   ],
   "source": [
    "print(craftsman_dict[1067][:20])"
   ]
  }
 ],
 "metadata": {
  "kernelspec": {
   "display_name": "venv",
   "language": "python",
   "name": "python3"
  },
  "language_info": {
   "codemirror_mode": {
    "name": "ipython",
    "version": 3
   },
   "file_extension": ".py",
   "mimetype": "text/x-python",
   "name": "python",
   "nbconvert_exporter": "python",
   "pygments_lexer": "ipython3",
   "version": "3.10.13"
  },
  "orig_nbformat": 4,
  "vscode": {
   "interpreter": {
    "hash": "161ab89aac84b9221867f28e4121d1974ba2c6de4cd5d52a64cf08e684277b36"
   }
  }
 },
 "nbformat": 4,
 "nbformat_minor": 2
}
