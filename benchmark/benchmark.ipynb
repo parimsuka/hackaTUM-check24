{
 "cells": [
  {
   "attachments": {},
   "cell_type": "markdown",
   "metadata": {},
   "source": [
    "# Benchmark of backend methods\n",
    "\n",
    "This benchmark file will assess the performance of different possibilities to implement the backend."
   ]
  },
  {
   "cell_type": "code",
   "execution_count": 1,
   "metadata": {},
   "outputs": [],
   "source": [
    "import json\n",
    "from coordinates import Coordinates\n",
    "from service_provider import ServiceProvider"
   ]
  },
  {
   "attachments": {},
   "cell_type": "markdown",
   "metadata": {},
   "source": [
    "## Distance calculation\n",
    "\n",
    "Below cell demonstrates the usage of the `Coordinates`-class:"
   ]
  },
  {
   "cell_type": "code",
   "execution_count": 2,
   "metadata": {},
   "outputs": [
    {
     "name": "stdout",
     "output_type": "stream",
     "text": [
      "2901\n"
     ]
    }
   ],
   "source": [
    "coords1 = Coordinates(13.719, 51.06)\n",
    "coords2 = Coordinates(13.7345, 51.0384)\n",
    "print(coords1.distance_to(coords2))"
   ]
  },
  {
   "attachments": {},
   "cell_type": "markdown",
   "metadata": {},
   "source": [
    "## Example stats of a worker\n",
    "\n",
    "The below cell provides an example worker:"
   ]
  },
  {
   "cell_type": "code",
   "execution_count": 3,
   "metadata": {},
   "outputs": [],
   "source": [
    "sp = ServiceProvider(id=1, lat=50.89849, lon=7.01926, max_driving_distance=97000, picture_score=2., description_score=2.)"
   ]
  },
  {
   "attachments": {},
   "cell_type": "markdown",
   "metadata": {},
   "source": [
    "This worker can then be used to get some feel for reachability:"
   ]
  },
  {
   "cell_type": "code",
   "execution_count": 4,
   "metadata": {},
   "outputs": [
    {
     "name": "stdout",
     "output_type": "stream",
     "text": [
      "The example worker can reach 886 of 8168 postcodes.\n"
     ]
    }
   ],
   "source": [
    "with open('../dataset/postcode.json', 'r') as postcodefile:\n",
    "    postcodelist = json.load(postcodefile)\n",
    "    reachable_postal_codes = 0\n",
    "    for postcode in postcodelist:\n",
    "        group_bonus = 0\n",
    "        if postcode['postcode_extension_distance_group'] == 'group_b':\n",
    "            group_bonus = 2\n",
    "        elif postcode['postcode_extension_distance_group'] == 'group_c':\n",
    "            group_bonus = 7\n",
    "        postcode_coordinates = Coordinates(postcode['lat'], postcode['lon'])\n",
    "        if sp.can_reach(postcode_coordinates, group_bonus):\n",
    "            reachable_postal_codes += 1\n",
    "            #print(sp.rank(postcode_coordinates))\n",
    "    print(f'The example worker can reach {reachable_postal_codes} of {len(postcodelist)} postcodes.')"
   ]
  },
  {
   "attachments": {},
   "cell_type": "markdown",
   "metadata": {},
   "source": [
    "## Parsing postcodes and service providers\n",
    "\n",
    "Testing the postcode iterator:"
   ]
  },
  {
   "cell_type": "code",
   "execution_count": 5,
   "metadata": {},
   "outputs": [
    {
     "name": "stdout",
     "output_type": "stream",
     "text": [
      "[1067, 1069, 1097, 1099, 1108, 1109, 1127, 1129, 1139, 1156]\n"
     ]
    }
   ],
   "source": [
    "from postcode import AllPostCodes\n",
    "\n",
    "print([pc.postcode for pc in AllPostCodes('../dataset/postcode.json')][:10])"
   ]
  },
  {
   "attachments": {},
   "cell_type": "markdown",
   "metadata": {},
   "source": [
    "Testing the service provider iterator:"
   ]
  },
  {
   "cell_type": "code",
   "execution_count": 7,
   "metadata": {},
   "outputs": [
    {
     "name": "stdout",
     "output_type": "stream",
     "text": [
      "[67267, 67268, 67269, 67270, 67271, 67272, 67273, 67274, 67275, 67276]\n"
     ]
    }
   ],
   "source": [
    "from service_provider import AllServiceProviders\n",
    "\n",
    "print([sp.id for sp in AllServiceProviders('../dataset/service_provider_profile.json', '../dataset/quality_factor_score.json')][-10:])"
   ]
  }
 ],
 "metadata": {
  "kernelspec": {
   "display_name": "venv",
   "language": "python",
   "name": "python3"
  },
  "language_info": {
   "codemirror_mode": {
    "name": "ipython",
    "version": 3
   },
   "file_extension": ".py",
   "mimetype": "text/x-python",
   "name": "python",
   "nbconvert_exporter": "python",
   "pygments_lexer": "ipython3",
   "version": "3.11.5"
  },
  "orig_nbformat": 4,
  "vscode": {
   "interpreter": {
    "hash": "161ab89aac84b9221867f28e4121d1974ba2c6de4cd5d52a64cf08e684277b36"
   }
  }
 },
 "nbformat": 4,
 "nbformat_minor": 2
}
